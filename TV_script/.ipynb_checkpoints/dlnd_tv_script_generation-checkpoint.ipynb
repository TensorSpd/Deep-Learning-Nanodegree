{
 "cells": [
  {
   "cell_type": "markdown",
   "metadata": {},
   "source": [
    "# TV Script Generation\n",
    "\n",
    "In this project, you'll generate your own [Seinfeld](https://en.wikipedia.org/wiki/Seinfeld) TV scripts using RNNs.  You'll be using part of the [Seinfeld dataset](https://www.kaggle.com/thec03u5/seinfeld-chronicles#scripts.csv) of scripts from 9 seasons.  The Neural Network you'll build will generate a new ,\"fake\" TV script, based on patterns it recognizes in this training data.\n",
    "\n",
    "## Get the Data\n",
    "\n",
    "The data is already provided for you in `./data/Seinfeld_Scripts.txt` and you're encouraged to open that file and look at the text. \n",
    ">* As a first step, we'll load in this data and look at some samples. \n",
    "* Then, you'll be tasked with defining and training an RNN to generate a new script!"
   ]
  },
  {
   "cell_type": "code",
   "execution_count": 1,
   "metadata": {},
   "outputs": [],
   "source": [
    "\n",
    "# load in data\n",
    "import helper\n",
    "data_dir = './data/Seinfeld_Scripts.txt'\n",
    "text = helper.load_data(data_dir)"
   ]
  },
  {
   "cell_type": "code",
   "execution_count": 2,
   "metadata": {},
   "outputs": [
    {
     "data": {
      "text/plain": [
       "'jerry: do you know what this is all about? do you know, why were here? to be out, this is out...and out is one of the single most enjoyable experiences of life. people...did you ever hear people talking about we should go out? this is what theyre talking about...this whole thing, were all out now, no one is home. not one person here is home, were all out! there are people trying to find us, they dont know where we are. (on an imaginary phone) did you ring?, i cant find him. where did he go? he didnt tell me where he was going. he must have gone out. you wanna go out you get ready, you pick out the clothes, right? you take the shower, you get all ready, get the cash, get your friends, the car, the spot, the reservation...then youre standing around, what do you do? you go we gotta be getting back. once youre out, you wanna get back! you wanna go to sleep, you wanna get up, you wanna go out again tomorrow, right? where ever you are in life, its my feeling, youve gotta go. \\n\\njerry: (pointing at georges shirt) see, to me, that button is in the worst possible spot. the second button literally makes or breaks the shirt, look at it. its too high! its in no-mans-land. you look like you live with your mother. \\n\\ngeorge: are you through? \\n\\njerry: you do of course try on, when you buy? \\n\\ngeorge: yes, it was purple, i liked it, i dont actually recall considering the buttons. \\n\\njerry: oh, you dont recall? \\n\\ngeorge: (on an imaginary microphone) uh, no, not at this time. \\n\\njerry: well, senator, id just like to know, what you knew and when you knew it. \\n\\nclaire: mr. seinfeld. mr. costanza. \\n\\ngeorge: are, are you sure this is decaf? wheres the orange indicator? \\n\\nclaire: its missing, i have to do it in my head decaf left, regular right, decaf left, regular right...its very challenging work. \\n\\njerry: can you relax, its a cup of coffee. claire is a professional waitress. \\n\\nclaire: trust me george. no one has any interest in seeing you on caffeine. \\n\\ngeorge: how come youre not doing the second show tomorrow? \\n\\njerry: well, theres this uh, woman might be coming in. \\n\\ngeorge: wait a second, wait a second, what coming in, what woman is coming in? \\n\\njerry: i told you about laura, the girl i met in michigan? \\n\\ngeorge: no, you didnt! \\n\\njerry: i thought i told you about it, yes, she teaches political science? i met her the night i did the show in lansing... \\n\\ngeorge: ha. \\n\\njerry: (looks in the creamer) theres no milk in here, what... \\n\\ngeorge: wait wait wait, what is she... (takes the milk can from jerry and puts it on the table) what is she like? \\n\\njerry: oh, shes really great. i mean, shes got like a real warmth about her and shes really bright and really pretty and uh... the conversation though, i mean, it was... talking with her is like talking with you, but, you know, obviously much better. \\n\\ngeorge: (smiling) so, you know, what, what happened? \\n\\njerry: oh, nothing happened, you know, but is was great. \\n\\ngeorge: oh, nothing happened, but it was... \\n\\njerry: yeah. \\n\\ngeorge: this is great! \\n\\njerry: yeah. \\n\\ngeorge: so, you know, she calls and says she wants to go out with you tomorrow night? god bless! devil you! \\n\\njerry: yeah, well...not exactly. i mean, she said, you know, she called this morning and said she had to come in for a seminar and maybe well get together. \\n\\ngeorge: (whistles disapprovingly) ho ho ho, had to? had to come in? \\n\\njerry: yeah, but... \\n\\ngeorge: had to come in and maybe well get together? had to and maybe? \\n\\njerry: yeah! \\n\\ngeorge: no...no...no, i hate to tell you this. youre not gonna see this woman. \\n\\njerry: what, are you serious...why, why did she call? \\n\\ngeorge: how do i know, maybe, you know, maybe she wanted to be polite. \\n\\njerry: to be polite? you are insane! \\n\\ngeorge: all right, all right, i didnt want to tell you this. you wanna know why she called you? \\n\\njerry: yes! \\n\\ngeorge: youre a back-up, youre a second-line, a just-in-case, a b-plan, a contingency! \\n\\njerry: oh, i get it, this is about the button. \\n\\ngeorge: claire, claire, youre a woman, right? \\n\\nclaire: what gave it away, george? \\n\\ngeorge: uhm...id like to ask you...ask you to analyze a hypothetical phone call, you know, from a female point of view. \\n\\ngeorge: (to claire) now, a woman calls me, all right? \\n\\nclaie: uh huh. \\n\\ngeorge: she says she has to come to new york on business... \\n\\njerry: oh you are beautiful! \\n\\ngeorge: ...and, and maybe shell see me when she gets there, does this woman intend to spend time with me? \\n\\nclaire: id have to say, uh, no. \\n\\n(george shows his note-block to jerry; it says very largely: no.) \\n\\nclaire: to be polite. \\n\\ngeorge: to be polite. i rest my case. \\n\\njerry: good. did you have fun? you have no idea, what youre talking about, now, come on, come with me. (stands up) i gotta go get my stuff out of the dryer anyway. \\n\\ngeorge: im not gonna watch you do laundry. \\n\\njerry: oh, come on, be a come-with guy. \\n\\ngeorge: come on, im tired. \\n\\nclaire: (to jerry) dont worry, i gave him a little caffeine. hell perk up. \\n\\ngeorge: (panicking) right, i knew i felt something! \\n\\ngeorge: jerry? i have to tell you something. this is the dullest moment ive ever experienced. \\n\\njerry: well, look at this guy. look, hes got everything, hes got detergents, sprays, fabric softeners.  this is not his first load. \\n\\ngeorge: i need a break, jerry, you know. i gotta get out of the city. i feel so cramped... \\n\\njerry: and you didnt even hear how she sounded. \\n\\ngeorge: what?! \\n\\njerry: laura. \\n\\ngeorge: i cant believe- (falls on his knees) we already discussed this! \\n\\njerry: yeah, but how could you be so sure? \\n\\ngeorge: cause its signals, jerry, its signals! (snapping his fingers) dont you- all right. did she even ask you, what you were doing tomorrow night, if you were busy? \\n\\njerry: no. \\n\\ngeorge: she calls you today and she doesnt make a plan for tomorrow? what is that? its saturday night! \\n\\njerry: yeah. \\n\\ngeorge: what is that? its ridiculous! you dont even know what hotel shes staying at, you cant call her. thats a signal, jerry, thats a signal! (snaps his fingers) signal! \\n\\njerry: maybe youre right. \\n\\ngeorge: maybe im right? of course im right. \\n\\njerry: this is insane. you know, i dont even know where shes staying! she, shes not gonna call me, this is unbelievable. \\n\\ngeorge: i know, i know. listen, your stuff has to be done by now, why dont you just see if its dry? \\n\\njerry: no no no, dont interrupt the cycle. the machine is working, it, it knows what its doing. just let it finish. \\n\\ngeorge: youre gonna over-dry it. \\n\\njerry: you, you cant over-dry. \\n\\ngeorge: why not? \\n\\njerry: same as you cant over-wet. you see, once something is wet, its wet. same thing with death. like once you die youre dead, right? lets say you drop dead and i shoot you. youre not gonna die again, youre already dead. you cant over-die, you cant over-dry. \\n\\ngeorge: (to the other laundry patrons) any questions? \\n\\njerry: how could she not tell me where she was staying? \\n\\ngeorge: look at that. theyre done! \\n\\njerry: laundry day is the only exciting day in the life of clothes. it is...you know, think about it. the washing machine is the nightclub of clothes. you know, its dark, theres bubbles happening, theyre all kinda dancing around in there- shirt grabs the underwear, cmon babe, lets go. you come by, you open up the lid and theyll- (stiffens up, as the clothes) socks are the most amazing article of clothing. they hate their lives, theyre in the shoes with stinky feet, the boring drawers. the dryer is their only chance to escape and they all know it. they knew a escape from the dryer. they plan it in the hamper the night before, tomorrow, the dryer, im goin. you wait here! the dryer door swings open and the sock is waiting up against the side wall. he hopes you dont see him and then he goes down the road. they get buttons sewn on their faces, join a puppet show. so theyre showing me on television the detergent for getting out bloodstains. is this a violent image to anybody? bloodstains? i mean, come on, you got a t-shirt with bloodstains all over it, maybe laundry isnt your biggest problem right now. you gotta get the harpoon out your chest first. \\n\\njerry: (answering, quickly) if you know what happened in the met game, dont say anything, i taped it, hello. yeah, no, im sorry, you have the wrong number. yeah, no \\n\\njerry: (to the door) yeah? \\n\\nkessler: are you up? \\n\\njerry: (to kessler) yeah. (to the phone) yeah, people do move. have you ever seen the big trucks out on the street? yeah, no problem. \\n\\nkessler: boy, the mets blew it tonight, huh? \\n\\njerry: (upset) ohhhh, what are you doing? kessler, its a tape! i taped the game, its one oclock in the morning! i avoided human contact all night to watch this. \\n\\nkessler: hey, im sorry, i- you know, i, i thought you knew. (takes two loaves of bread out of his pockets, and holds them out to jerry.) you got any meat? \\n\\njerry: meat? i dont, i dont know, go... hunt! (kessler opens the refrigerator and sticks his head in.) well what happened in the game anyway? \\n\\nkessler: (from the refrigerator) what happened? well, they stunk, thats what happened! \\n\\nkessler: you know, i almost wound up going to that game. \\n\\njerry: (cynical) yeah you almost went to the game. you havent been out of the building in ten years! \\n\\nkessler: yeah. (jerry sits down on the couch. kessler walks over with his sandwich and looks at jerry and uses expressions to ask jerry to move the newspapers on the other side of the couch so he could site down. kessler sits down next to him and starts turning over the pages of a magazine. suddenly he spots an article he likes and tears it out. jerry gives him a look as if to say, do you mind?) are you done with this? \\n\\njerry: no. \\n\\nkessler: when youre done, let me know. \\n\\njerry: yeah, yeah...you can have it tomorrow. \\n\\nkessler: i thought i wasnt allowed to be in here this weekend. \\n\\njerry: no, its okay now, that, that girl is not coming. uh, i misread the whole thing. \\n\\nkessler: you want me to talk to her? \\n\\njerry: i dont think so. \\n\\nkessler: oh, i '"
      ]
     },
     "execution_count": 2,
     "metadata": {},
     "output_type": "execute_result"
    }
   ],
   "source": [
    "text[:10000]"
   ]
  },
  {
   "cell_type": "markdown",
   "metadata": {},
   "source": [
    "## Explore the Data\n",
    "Play around with `view_line_range` to view different parts of the data. This will give you a sense of the data you'll be working with. You can see, for example, that it is all lowercase text, and each new line of dialogue is separated by a newline character `\\n`."
   ]
  },
  {
   "cell_type": "code",
   "execution_count": 3,
   "metadata": {},
   "outputs": [
    {
     "name": "stdout",
     "output_type": "stream",
     "text": [
      "Dataset Stats\n",
      "Roughly the number of unique words: 46367\n",
      "Number of lines: 109233\n",
      "Average number of words in each line: 5.544240293684143\n",
      "\n",
      "The lines 0 to 10:\n",
      "jerry: do you know what this is all about? do you know, why were here? to be out, this is out...and out is one of the single most enjoyable experiences of life. people...did you ever hear people talking about we should go out? this is what theyre talking about...this whole thing, were all out now, no one is home. not one person here is home, were all out! there are people trying to find us, they dont know where we are. (on an imaginary phone) did you ring?, i cant find him. where did he go? he didnt tell me where he was going. he must have gone out. you wanna go out you get ready, you pick out the clothes, right? you take the shower, you get all ready, get the cash, get your friends, the car, the spot, the reservation...then youre standing around, what do you do? you go we gotta be getting back. once youre out, you wanna get back! you wanna go to sleep, you wanna get up, you wanna go out again tomorrow, right? where ever you are in life, its my feeling, youve gotta go. \n",
      "\n",
      "jerry: (pointing at georges shirt) see, to me, that button is in the worst possible spot. the second button literally makes or breaks the shirt, look at it. its too high! its in no-mans-land. you look like you live with your mother. \n",
      "\n",
      "george: are you through? \n",
      "\n",
      "jerry: you do of course try on, when you buy? \n",
      "\n",
      "george: yes, it was purple, i liked it, i dont actually recall considering the buttons. \n",
      "\n"
     ]
    }
   ],
   "source": [
    "view_line_range = (0, 10)\n",
    "\n",
    "import numpy as np\n",
    "\n",
    "print('Dataset Stats')\n",
    "print('Roughly the number of unique words: {}'.format(len({word: None for word in text.split()})))\n",
    "\n",
    "lines = text.split('\\n')\n",
    "print('Number of lines: {}'.format(len(lines)))\n",
    "word_count_line = [len(line.split()) for line in lines]\n",
    "print('Average number of words in each line: {}'.format(np.average(word_count_line)))\n",
    "\n",
    "print()\n",
    "print('The lines {} to {}:'.format(*view_line_range))\n",
    "print('\\n'.join(text.split('\\n')[view_line_range[0]:view_line_range[1]]))"
   ]
  },
  {
   "cell_type": "markdown",
   "metadata": {},
   "source": [
    "---\n",
    "## Implement Pre-processing Functions\n",
    "The first thing to do to any dataset is pre-processing.  Implement the following pre-processing functions below:\n",
    "- Lookup Table\n",
    "- Tokenize Punctuation\n",
    "\n",
    "### Lookup Table\n",
    "To create a word embedding, you first need to transform the words to ids.  In this function, create two dictionaries:\n",
    "- Dictionary to go from the words to an id, we'll call `vocab_to_int`\n",
    "- Dictionary to go from the id to word, we'll call `int_to_vocab`\n",
    "\n",
    "Return these dictionaries in the following **tuple** `(vocab_to_int, int_to_vocab)`"
   ]
  },
  {
   "cell_type": "code",
   "execution_count": 4,
   "metadata": {},
   "outputs": [
    {
     "name": "stdout",
     "output_type": "stream",
     "text": [
      "Tests Passed\n"
     ]
    }
   ],
   "source": [
    "import problem_unittests as tests\n",
    "from collections import Counter\n",
    "\n",
    "def create_lookup_tables(text):\n",
    "    \"\"\"\n",
    "    Create lookup tables for vocabulary\n",
    "    :param text: The text of tv scripts split into words\n",
    "    :return: A tuple of dicts (vocab_to_int, int_to_vocab)\n",
    "    \"\"\"\n",
    "    # TODO: Implement Function\n",
    "    \n",
    "    \n",
    "    counts = Counter(text)\n",
    "    vocab_sorted = sorted(counts, key = counts.get, reverse = True)\n",
    "    int_to_vocab = {ii: word for ii,word in enumerate(vocab_sorted)}\n",
    "    vocab_to_int = {word: ii for ii, word in int_to_vocab.items()}\n",
    "    \n",
    "    # return tuple\n",
    "    return vocab_to_int, int_to_vocab\n",
    "\n",
    "tests.test_create_lookup_tables(create_lookup_tables)"
   ]
  },
  {
   "cell_type": "markdown",
   "metadata": {},
   "source": [
    "### Tokenize Punctuation\n",
    "We'll be splitting the script into a word array using spaces as delimiters.  However, punctuations like periods and exclamation marks can create multiple ids for the same word. For example, \"bye\" and \"bye!\" would generate two different word ids.\n",
    "\n",
    "Implement the function `token_lookup` to return a dict that will be used to tokenize symbols like \"!\" into \"||Exclamation_Mark||\".  Create a dictionary for the following symbols where the symbol is the key and value is the token:\n",
    "- Period ( **.** )\n",
    "- Comma ( **,** )\n",
    "- Quotation Mark ( **\"** )\n",
    "- Semicolon ( **;** )\n",
    "- Exclamation mark ( **!** )\n",
    "- Question mark ( **?** )\n",
    "- Left Parentheses ( **(** )\n",
    "- Right Parentheses ( **)** )\n",
    "- Dash ( **-** )\n",
    "- Return ( **\\n** )\n",
    "\n",
    "This dictionary will be used to tokenize the symbols and add the delimiter (space) around it.  This separates each symbols as its own word, making it easier for the neural network to predict the next word. Make sure you don't use a value that could be confused as a word; for example, instead of using the value \"dash\", try using something like \"||dash||\"."
   ]
  },
  {
   "cell_type": "code",
   "execution_count": 5,
   "metadata": {},
   "outputs": [
    {
     "name": "stdout",
     "output_type": "stream",
     "text": [
      "Tests Passed\n"
     ]
    }
   ],
   "source": [
    "def token_lookup():\n",
    "    \"\"\"\n",
    "    Generate a dict to turn punctuation into a token.\n",
    "    :return: Tokenized dictionary where the key is the punctuation and the value is the token\n",
    "    \"\"\"\n",
    "    # TODO: Implement Function\n",
    "    symbol_dict = {'.': '||Period||',\n",
    "                  ',': '||Comma||',\n",
    "                  '\"': '||Quotation_Mark||',\n",
    "                  ';': '||Semicolon||',\n",
    "                  '!': '||Exclamation_Mark||',\n",
    "                  '?': '||Question_Mark||',\n",
    "                  '(': '||Left_Parentheses||',\n",
    "                  ')': '||Right_Parentheses||',\n",
    "                  '-': '||Dash||',\n",
    "                  '\\n': '||Return||'}\n",
    "        \n",
    "    return symbol_dict\n",
    "\n",
    "tests.test_tokenize(token_lookup)"
   ]
  },
  {
   "cell_type": "markdown",
   "metadata": {},
   "source": [
    "## Pre-process all the data and save it\n",
    "\n",
    "Running the code cell below will pre-process all the data and save it to file. You're encouraged to lok at the code for `preprocess_and_save_data` in the `helpers.py` file to see what it's doing in detail, but you do not need to change this code."
   ]
  },
  {
   "cell_type": "code",
   "execution_count": 6,
   "metadata": {},
   "outputs": [],
   "source": [
    "\n",
    "# pre-process training data\n",
    "helper.preprocess_and_save_data(data_dir, token_lookup, create_lookup_tables)"
   ]
  },
  {
   "cell_type": "markdown",
   "metadata": {},
   "source": [
    "# Check Point\n",
    "This is your first checkpoint. If you ever decide to come back to this notebook or have to restart the notebook, you can start from here. The preprocessed data has been saved to disk."
   ]
  },
  {
   "cell_type": "code",
   "execution_count": 1,
   "metadata": {},
   "outputs": [],
   "source": [
    "\n",
    "import helper\n",
    "import problem_unittests as tests\n",
    "\n",
    "int_text, vocab_to_int, int_to_vocab, token_dict = helper.load_preprocess()"
   ]
  },
  {
   "cell_type": "markdown",
   "metadata": {},
   "source": [
    "## Build the Neural Network\n",
    "In this section, you'll build the components necessary to build an RNN by implementing the RNN Module and forward and backpropagation functions.\n",
    "\n",
    "### Check Access to GPU"
   ]
  },
  {
   "cell_type": "code",
   "execution_count": 3,
   "metadata": {},
   "outputs": [],
   "source": [
    "\n",
    "import torch\n",
    "\n",
    "# Check for a GPU\n",
    "train_on_gpu = torch.cuda.is_available()\n",
    "if not train_on_gpu:\n",
    "    print('No GPU found. Please use a GPU to train your neural network.')"
   ]
  },
  {
   "cell_type": "markdown",
   "metadata": {},
   "source": [
    "## Input\n",
    "Let's start with the preprocessed input data. We'll use [TensorDataset](http://pytorch.org/docs/master/data.html#torch.utils.data.TensorDataset) to provide a known format to our dataset; in combination with [DataLoader](http://pytorch.org/docs/master/data.html#torch.utils.data.DataLoader), it will handle batching, shuffling, and other dataset iteration functions.\n",
    "\n",
    "You can create data with TensorDataset by passing in feature and target tensors. Then create a DataLoader as usual.\n",
    "```\n",
    "data = TensorDataset(feature_tensors, target_tensors)\n",
    "data_loader = torch.utils.data.DataLoader(data, \n",
    "                                          batch_size=batch_size)\n",
    "```\n",
    "\n",
    "### Batching\n",
    "Implement the `batch_data` function to batch `words` data into chunks of size `batch_size` using the `TensorDataset` and `DataLoader` classes.\n",
    "\n",
    ">You can batch words using the DataLoader, but it will be up to you to create `feature_tensors` and `target_tensors` of the correct size and content for a given `sequence_length`.\n",
    "\n",
    "For example, say we have these as input:\n",
    "```\n",
    "words = [1, 2, 3, 4, 5, 6, 7]\n",
    "sequence_length = 4\n",
    "```\n",
    "\n",
    "Your first `feature_tensor` should contain the values:\n",
    "```\n",
    "[1, 2, 3, 4]\n",
    "```\n",
    "And the corresponding `target_tensor` should just be the next \"word\"/tokenized word value:\n",
    "```\n",
    "5\n",
    "```\n",
    "This should continue with the second `feature_tensor`, `target_tensor` being:\n",
    "```\n",
    "[2, 3, 4, 5]  # features\n",
    "6             # target\n",
    "```"
   ]
  },
  {
   "cell_type": "code",
   "execution_count": 4,
   "metadata": {
    "scrolled": true
   },
   "outputs": [
    {
     "name": "stdout",
     "output_type": "stream",
     "text": [
      "x_test: tensor([[ 27,  28,  29,  30],\n",
      "        [ 41,  42,  43,  44]])\n",
      "y_test: tensor([ 31,  45])\n",
      "x_test shape: torch.Size([2, 4])\n",
      "y_test shape: torch.Size([2])\n",
      "x_test: tensor([[ 15,  16,  17,  18],\n",
      "        [ 22,  23,  24,  25]])\n",
      "y_test: tensor([ 19,  26])\n",
      "x_test shape: torch.Size([2, 4])\n",
      "y_test shape: torch.Size([2])\n",
      "x_test: tensor([[ 28,  29,  30,  31],\n",
      "        [ 12,  13,  14,  15]])\n",
      "y_test: tensor([ 32,  16])\n",
      "x_test shape: torch.Size([2, 4])\n",
      "y_test shape: torch.Size([2])\n",
      "x_test: tensor([[  8,   9,  10,  11],\n",
      "        [ 26,  27,  28,  29]])\n",
      "y_test: tensor([ 12,  30])\n",
      "x_test shape: torch.Size([2, 4])\n",
      "y_test shape: torch.Size([2])\n",
      "x_test: tensor([[ 44,  45,  46,  47],\n",
      "        [ 43,  44,  45,  46]])\n",
      "y_test: tensor([ 48,  47])\n",
      "x_test shape: torch.Size([2, 4])\n",
      "y_test shape: torch.Size([2])\n",
      "x_test: tensor([[ 10,  11,  12,  13],\n",
      "        [ 11,  12,  13,  14]])\n",
      "y_test: tensor([ 14,  15])\n",
      "x_test shape: torch.Size([2, 4])\n",
      "y_test shape: torch.Size([2])\n",
      "x_test: tensor([[ 38,  39,  40,  41],\n",
      "        [ 29,  30,  31,  32]])\n",
      "y_test: tensor([ 42,  33])\n",
      "x_test shape: torch.Size([2, 4])\n",
      "y_test shape: torch.Size([2])\n",
      "x_test: tensor([[  7,   8,   9,  10],\n",
      "        [ 31,  32,  33,  34]])\n",
      "y_test: tensor([ 11,  35])\n",
      "x_test shape: torch.Size([2, 4])\n",
      "y_test shape: torch.Size([2])\n",
      "x_test: tensor([[ 18,  19,  20,  21],\n",
      "        [ 16,  17,  18,  19]])\n",
      "y_test: tensor([ 22,  20])\n",
      "x_test shape: torch.Size([2, 4])\n",
      "y_test shape: torch.Size([2])\n",
      "x_test: tensor([[ 34,  35,  36,  37],\n",
      "        [ 14,  15,  16,  17]])\n",
      "y_test: tensor([ 38,  18])\n",
      "x_test shape: torch.Size([2, 4])\n",
      "y_test shape: torch.Size([2])\n",
      "x_test: tensor([[ 32,  33,  34,  35],\n",
      "        [ 30,  31,  32,  33]])\n",
      "y_test: tensor([ 36,  34])\n",
      "x_test shape: torch.Size([2, 4])\n",
      "y_test shape: torch.Size([2])\n",
      "x_test: tensor([[ 37,  38,  39,  40],\n",
      "        [  0,   1,   2,   3]])\n",
      "y_test: tensor([ 41,   4])\n",
      "x_test shape: torch.Size([2, 4])\n",
      "y_test shape: torch.Size([2])\n",
      "x_test: tensor([[ 35,  36,  37,  38],\n",
      "        [ 17,  18,  19,  20]])\n",
      "y_test: tensor([ 39,  21])\n",
      "x_test shape: torch.Size([2, 4])\n",
      "y_test shape: torch.Size([2])\n",
      "x_test: tensor([[ 20,  21,  22,  23],\n",
      "        [ 40,  41,  42,  43]])\n",
      "y_test: tensor([ 24,  44])\n",
      "x_test shape: torch.Size([2, 4])\n",
      "y_test shape: torch.Size([2])\n",
      "x_test: tensor([[  5,   6,   7,   8],\n",
      "        [ 33,  34,  35,  36]])\n",
      "y_test: tensor([  9,  37])\n",
      "x_test shape: torch.Size([2, 4])\n",
      "y_test shape: torch.Size([2])\n",
      "x_test: tensor([[ 25,  26,  27,  28],\n",
      "        [  4,   5,   6,   7]])\n",
      "y_test: tensor([ 29,   8])\n",
      "x_test shape: torch.Size([2, 4])\n",
      "y_test shape: torch.Size([2])\n",
      "x_test: tensor([[  6,   7,   8,   9],\n",
      "        [ 39,  40,  41,  42]])\n",
      "y_test: tensor([ 10,  43])\n",
      "x_test shape: torch.Size([2, 4])\n",
      "y_test shape: torch.Size([2])\n",
      "x_test: tensor([[  3,   4,   5,   6],\n",
      "        [ 42,  43,  44,  45]])\n",
      "y_test: tensor([  7,  46])\n",
      "x_test shape: torch.Size([2, 4])\n",
      "y_test shape: torch.Size([2])\n",
      "x_test: tensor([[ 19,  20,  21,  22],\n",
      "        [ 45,  46,  47,  48]])\n",
      "y_test: tensor([ 23,  49])\n",
      "x_test shape: torch.Size([2, 4])\n",
      "y_test shape: torch.Size([2])\n",
      "x_test: tensor([[ 23,  24,  25,  26],\n",
      "        [  1,   2,   3,   4]])\n",
      "y_test: tensor([ 27,   5])\n",
      "x_test shape: torch.Size([2, 4])\n",
      "y_test shape: torch.Size([2])\n",
      "x_test: tensor([[ 24,  25,  26,  27],\n",
      "        [ 36,  37,  38,  39]])\n",
      "y_test: tensor([ 28,  40])\n",
      "x_test shape: torch.Size([2, 4])\n",
      "y_test shape: torch.Size([2])\n",
      "x_test: tensor([[ 21,  22,  23,  24],\n",
      "        [  9,  10,  11,  12]])\n",
      "y_test: tensor([ 25,  13])\n",
      "x_test shape: torch.Size([2, 4])\n",
      "y_test shape: torch.Size([2])\n",
      "x_test: tensor([[ 13,  14,  15,  16],\n",
      "        [  2,   3,   4,   5]])\n",
      "y_test: tensor([ 17,   6])\n",
      "x_test shape: torch.Size([2, 4])\n",
      "y_test shape: torch.Size([2])\n"
     ]
    }
   ],
   "source": [
    "from torch.utils.data import TensorDataset, DataLoader\n",
    "import numpy as np\n",
    "\n",
    "def batch_data(words, sequence_length, batch_size):\n",
    "    \"\"\"\n",
    "    Batch the neural network data using DataLoader\n",
    "    :param words: The word ids of the TV scripts\n",
    "    :param sequence_length: The sequence length of each batch\n",
    "    :param batch_size: The size of each batch; the number of sequences in a batch\n",
    "    :return: DataLoader with batched data\n",
    "    \"\"\"\n",
    "    # TODO: Implement function\n",
    "    n_batches = len(words)//batch_size\n",
    "    words = words[:n_batches * batch_size]\n",
    "    \n",
    "    x,y = [],[]\n",
    "    for i in range(0, len(words) - sequence_length):\n",
    "        x.append(words[i:i+sequence_length])\n",
    "        y.append(words[i+sequence_length])\n",
    "        \n",
    "        \n",
    "    tensor_x = torch.from_numpy(np.array(x))\n",
    "    tensor_y = torch.from_numpy(np.array(y))\n",
    "    \n",
    "    data = TensorDataset(tensor_x, tensor_y)\n",
    "    dataloader = torch.utils.data.DataLoader(data, batch_size = batch_size,\n",
    "                                            shuffle = True)\n",
    "        \n",
    "    \n",
    "    # return a dataloader\n",
    "    return dataloader\n",
    "\n",
    "# there is no test for this function, but you are encouraged to create\n",
    "# print statements and tests of your own\n",
    "words = [i for i in range(50)]\n",
    "sequence_length = 4\n",
    "dataloader = batch_data(words, sequence_length, 2)\n",
    "\n",
    "for x_test, y_test in dataloader:\n",
    "    print(\"x_test: {}\".format(x_test))\n",
    "    print(\"y_test: {}\".format(y_test))\n",
    "    print(\"x_test shape: {}\".format(x_test.shape))\n",
    "    print(\"y_test shape: {}\".format(y_test.shape))"
   ]
  },
  {
   "cell_type": "markdown",
   "metadata": {},
   "source": [
    "### Test your dataloader \n",
    "\n",
    "You'll have to modify this code to test a batching function, but it should look fairly similar.\n",
    "\n",
    "Below, we're generating some test text data and defining a dataloader using the function you defined, above. Then, we are getting some sample batch of inputs `sample_x` and targets `sample_y` from our dataloader.\n",
    "\n",
    "Your code should return something like the following (likely in a different order, if you shuffled your data):\n",
    "\n",
    "```\n",
    "torch.Size([10, 5])\n",
    "tensor([[ 28,  29,  30,  31,  32],\n",
    "        [ 21,  22,  23,  24,  25],\n",
    "        [ 17,  18,  19,  20,  21],\n",
    "        [ 34,  35,  36,  37,  38],\n",
    "        [ 11,  12,  13,  14,  15],\n",
    "        [ 23,  24,  25,  26,  27],\n",
    "        [  6,   7,   8,   9,  10],\n",
    "        [ 38,  39,  40,  41,  42],\n",
    "        [ 25,  26,  27,  28,  29],\n",
    "        [  7,   8,   9,  10,  11]])\n",
    "\n",
    "torch.Size([10])\n",
    "tensor([ 33,  26,  22,  39,  16,  28,  11,  43,  30,  12])\n",
    "```\n",
    "\n",
    "### Sizes\n",
    "Your sample_x should be of size `(batch_size, sequence_length)` or (10, 5) in this case and sample_y should just have one dimension: batch_size (10). \n",
    "\n",
    "### Values\n",
    "\n",
    "You should also notice that the targets, sample_y, are the *next* value in the ordered test_text data. So, for an input sequence `[ 28,  29,  30,  31,  32]` that ends with the value `32`, the corresponding output should be `33`."
   ]
  },
  {
   "cell_type": "code",
   "execution_count": 5,
   "metadata": {},
   "outputs": [
    {
     "name": "stdout",
     "output_type": "stream",
     "text": [
      "torch.Size([10, 5])\n",
      "tensor([[ 13,  14,  15,  16,  17],\n",
      "        [ 19,  20,  21,  22,  23],\n",
      "        [ 11,  12,  13,  14,  15],\n",
      "        [ 40,  41,  42,  43,  44],\n",
      "        [ 14,  15,  16,  17,  18],\n",
      "        [ 29,  30,  31,  32,  33],\n",
      "        [ 35,  36,  37,  38,  39],\n",
      "        [ 30,  31,  32,  33,  34],\n",
      "        [ 26,  27,  28,  29,  30],\n",
      "        [  4,   5,   6,   7,   8]])\n",
      "\n",
      "torch.Size([10])\n",
      "tensor([ 18,  24,  16,  45,  19,  34,  40,  35,  31,   9])\n"
     ]
    }
   ],
   "source": [
    "# test dataloader\n",
    "\n",
    "test_text = range(50)\n",
    "t_loader = batch_data(test_text, sequence_length=5, batch_size=10)\n",
    "\n",
    "data_iter = iter(t_loader)\n",
    "sample_x, sample_y = data_iter.next()\n",
    "\n",
    "print(sample_x.shape)\n",
    "print(sample_x)\n",
    "print()\n",
    "print(sample_y.shape)\n",
    "print(sample_y)"
   ]
  },
  {
   "cell_type": "markdown",
   "metadata": {},
   "source": [
    "---\n",
    "## Build the Neural Network\n",
    "Implement an RNN using PyTorch's [Module class](http://pytorch.org/docs/master/nn.html#torch.nn.Module). You may choose to use a GRU or an LSTM. To complete the RNN, you'll have to implement the following functions for the class:\n",
    " - `__init__` - The initialize function. \n",
    " - `init_hidden` - The initialization function for an LSTM/GRU hidden state\n",
    " - `forward` - Forward propagation function.\n",
    " \n",
    "The initialize function should create the layers of the neural network and save them to the class. The forward propagation function will use these layers to run forward propagation and generate an output and a hidden state.\n",
    "\n",
    "**The output of this model should be the *last* batch of word scores** after a complete sequence has been processed. That is, for each input sequence of words, we only want to output the word scores for a single, most likely, next word.\n",
    "\n",
    "### Hints\n",
    "\n",
    "1. Make sure to stack the outputs of the lstm to pass to your fully-connected layer, you can do this with `lstm_output = lstm_output.contiguous().view(-1, self.hidden_dim)`\n",
    "2. You can get the last batch of word scores by shaping the output of the final, fully-connected layer like so:\n",
    "\n",
    "```\n",
    "# reshape into (batch_size, seq_length, output_size)\n",
    "output = output.view(batch_size, -1, self.output_size)\n",
    "# get last batch\n",
    "out = output[:, -1]\n",
    "```"
   ]
  },
  {
   "cell_type": "code",
   "execution_count": 6,
   "metadata": {},
   "outputs": [
    {
     "name": "stdout",
     "output_type": "stream",
     "text": [
      "Tests Passed\n"
     ]
    }
   ],
   "source": [
    "import torch.nn as nn\n",
    "\n",
    "class RNN(nn.Module):\n",
    "    \n",
    "    def __init__(self, vocab_size, output_size, embedding_dim, hidden_dim, n_layers, dropout=0.5):\n",
    "        \"\"\"\n",
    "        Initialize the PyTorch RNN Module\n",
    "        :param vocab_size: The number of input dimensions of the neural network (the size of the vocabulary)\n",
    "        :param output_size: The number of output dimensions of the neural network\n",
    "        :param embedding_dim: The size of embeddings, should you choose to use them        \n",
    "        :param hidden_dim: The size of the hidden layer outputs\n",
    "        :param dropout: dropout to add in between LSTM/GRU layers\n",
    "        \"\"\"\n",
    "        super(RNN, self).__init__()\n",
    "        \n",
    "        # TODO: Implement function\n",
    "        \n",
    "        # set class variables\n",
    "        self.output_size = output_size\n",
    "        self.hidden_dim = hidden_dim\n",
    "        self.n_layers = n_layers \n",
    "        self.vocab_size = vocab_size\n",
    "        self.embedding_dim = embedding_dim\n",
    "        \n",
    "        \n",
    "        # define model layers\n",
    "        self.embedding = nn.Embedding(vocab_size, embedding_dim)\n",
    "        self.lstm = nn.LSTM(embedding_dim, hidden_dim, n_layers,\n",
    "                           dropout = dropout, batch_first = True)\n",
    "        self.dropout = nn.Dropout(0.3)\n",
    "        \n",
    "        self.fc = nn.Linear(hidden_dim, output_size)\n",
    "        \n",
    "    \n",
    "    def forward(self, nn_input, hidden):\n",
    "        \"\"\"\n",
    "        Forward propagation of the neural network\n",
    "        :param nn_input: The input to the neural network\n",
    "        :param hidden: The hidden state        \n",
    "        :return: Two Tensors, the output of the neural network and the latest hidden state\n",
    "        \"\"\"\n",
    "        # TODO: Implement function  \n",
    "        batch_size = nn_input.size(0)\n",
    "        nn_input = nn_input.long()\n",
    "        \n",
    "        embeds = self.embedding(nn_input)\n",
    "        lstm_out, hidden = self.lstm(embeds, hidden)\n",
    "        lstm_out = lstm_out.contiguous().view(-1, self.hidden_dim)\n",
    "        \n",
    "        output = self.dropout(lstm_out)\n",
    "        fc_output = self.fc(output)\n",
    "        \n",
    "        \n",
    "        fc_output = fc_output.view(batch_size, -1, self.output_size)\n",
    "        fc_output = fc_output[:,-1]\n",
    "\n",
    "        # return one batch of output word scores and the hidden state\n",
    "        return fc_output, hidden\n",
    "    \n",
    "    \n",
    "    def init_hidden(self, batch_size):\n",
    "        '''\n",
    "        Initialize the hidden state of an LSTM/GRU\n",
    "        :param batch_size: The batch_size of the hidden state\n",
    "        :return: hidden state of dims (n_layers, batch_size, hidden_dim)\n",
    "        '''\n",
    "        # Implement function\n",
    "        \n",
    "        # initialize hidden state with zero weights, and move to GPU if available\n",
    "        weight = next(self.parameters()).data\n",
    "        \n",
    "        if (train_on_gpu):\n",
    "            hidden = (weight.new(self.n_layers, batch_size, self.hidden_dim).zero_().cuda(),\n",
    "                     weight.new(self.n_layers, batch_size, self.hidden_dim).zero_().cuda())\n",
    "        else:\n",
    "            hidden = (weight.new(self.n_layers, batch_size, self.hidden_dim).zero_(),\n",
    "                     weight.new(self.n_layers, batch_size, self.hidden_dim).zero_())\n",
    "        \n",
    "        return hidden\n",
    "\n",
    "tests.test_rnn(RNN, train_on_gpu)"
   ]
  },
  {
   "cell_type": "markdown",
   "metadata": {},
   "source": [
    "### Define forward and backpropagation\n",
    "\n",
    "Use the RNN class you implemented to apply forward and back propagation. This function will be called, iteratively, in the training loop as follows:\n",
    "```\n",
    "loss = forward_back_prop(decoder, decoder_optimizer, criterion, inp, target)\n",
    "```\n",
    "\n",
    "And it should return the average loss over a batch and the hidden state returned by a call to `RNN(inp, hidden)`. Recall that you can get this loss by computing it, as usual, and calling `loss.item()`.\n",
    "\n",
    "**If a GPU is available, you should move your data to that GPU device, here.**"
   ]
  },
  {
   "cell_type": "code",
   "execution_count": 7,
   "metadata": {},
   "outputs": [
    {
     "name": "stdout",
     "output_type": "stream",
     "text": [
      "Tests Passed\n"
     ]
    }
   ],
   "source": [
    "def forward_back_prop(rnn, optimizer, criterion, inp, target, hidden):\n",
    "    \"\"\"\n",
    "    Forward and backward propagation on the neural network\n",
    "    :param decoder: The PyTorch Module that holds the neural network\n",
    "    :param decoder_optimizer: The PyTorch optimizer for the neural network\n",
    "    :param criterion: The PyTorch loss function\n",
    "    :param inp: A batch of input to the neural network\n",
    "    :param target: The target output for the batch of input\n",
    "    :return: The loss and the latest hidden state Tensor\n",
    "    \"\"\"\n",
    "    \n",
    "    # TODO: Implement Function\n",
    "    \n",
    "    # move data to GPU, if available\n",
    "    if (train_on_gpu):\n",
    "        inp, target = inp.cuda(), target.cuda()\n",
    "    \n",
    "    # perform backpropagation and optimization\n",
    "    hidden = tuple([each.data for each in hidden])\n",
    "    rnn.zero_grad()\n",
    "    output,hidden = rnn(inp, hidden)\n",
    "    loss = criterion(output, target)\n",
    "    loss.backward()\n",
    "    nn.utils.clip_grad_norm_(rnn.parameters(), 5)\n",
    "    optimizer.step()\n",
    "\n",
    "    # return the loss over a batch and the hidden state produced by our model\n",
    "    return loss.item(), hidden\n",
    "\n",
    "# Note that these tests aren't completely extensive.\n",
    "# they are here to act as general checks on the expected outputs of your functions\n",
    "\n",
    "tests.test_forward_back_prop(RNN, forward_back_prop, train_on_gpu)"
   ]
  },
  {
   "cell_type": "markdown",
   "metadata": {},
   "source": [
    "## Neural Network Training\n",
    "\n",
    "With the structure of the network complete and data ready to be fed in the neural network, it's time to train it.\n",
    "\n",
    "### Train Loop\n",
    "\n",
    "The training loop is implemented for you in the `train_decoder` function. This function will train the network over all the batches for the number of epochs given. The model progress will be shown every number of batches. This number is set with the `show_every_n_batches` parameter. You'll set this parameter along with other parameters in the next section."
   ]
  },
  {
   "cell_type": "code",
   "execution_count": 8,
   "metadata": {},
   "outputs": [],
   "source": [
    "\n",
    "def train_rnn(rnn, batch_size, optimizer, criterion, n_epochs, show_every_n_batches=100):\n",
    "    batch_losses = []\n",
    "    \n",
    "    rnn.train()\n",
    "\n",
    "    print(\"Training for %d epoch(s)...\" % n_epochs)\n",
    "    for epoch_i in range(1, n_epochs + 1):\n",
    "        \n",
    "        # initialize hidden state\n",
    "        hidden = rnn.init_hidden(batch_size)\n",
    "        \n",
    "        for batch_i, (inputs, labels) in enumerate(train_loader, 1):\n",
    "            \n",
    "            # make sure you iterate over completely full batches, only\n",
    "            n_batches = len(train_loader.dataset)//batch_size\n",
    "            if(batch_i > n_batches):\n",
    "                break\n",
    "            \n",
    "            # forward, back prop\n",
    "            loss, hidden = forward_back_prop(rnn, optimizer, criterion, inputs, labels, hidden)          \n",
    "            # record loss\n",
    "            batch_losses.append(loss)\n",
    "\n",
    "            # printing loss stats\n",
    "            if batch_i % show_every_n_batches == 0:\n",
    "                print('Epoch: {:>4}/{:<4}  Loss: {}\\n'.format(\n",
    "                    epoch_i, n_epochs, np.average(batch_losses)))\n",
    "                batch_losses = []\n",
    "\n",
    "    # returns a trained rnn\n",
    "    return rnn"
   ]
  },
  {
   "cell_type": "markdown",
   "metadata": {},
   "source": [
    "### Hyperparameters\n",
    "\n",
    "Set and train the neural network with the following parameters:\n",
    "- Set `sequence_length` to the length of a sequence.\n",
    "- Set `batch_size` to the batch size.\n",
    "- Set `num_epochs` to the number of epochs to train for.\n",
    "- Set `learning_rate` to the learning rate for an Adam optimizer.\n",
    "- Set `vocab_size` to the number of uniqe tokens in our vocabulary.\n",
    "- Set `output_size` to the desired size of the output.\n",
    "- Set `embedding_dim` to the embedding dimension; smaller than the vocab_size.\n",
    "- Set `hidden_dim` to the hidden dimension of your RNN.\n",
    "- Set `n_layers` to the number of layers/cells in your RNN.\n",
    "- Set `show_every_n_batches` to the number of batches at which the neural network should print progress.\n",
    "\n",
    "If the network isn't getting the desired results, tweak these parameters and/or the layers in the `RNN` class."
   ]
  },
  {
   "cell_type": "code",
   "execution_count": 9,
   "metadata": {},
   "outputs": [],
   "source": [
    "# Data params\n",
    "# Sequence Length\n",
    "sequence_length = 15\n",
    "# Batch Size\n",
    "batch_size = 256\n",
    "\n",
    "# data loader - do not change\n",
    "train_loader = batch_data(int_text, sequence_length, batch_size)"
   ]
  },
  {
   "cell_type": "code",
   "execution_count": 10,
   "metadata": {},
   "outputs": [],
   "source": [
    "# Training parameters\n",
    "# Number of Epochs\n",
    "num_epochs = 15\n",
    "# Learning Rate\n",
    "learning_rate = 0.001\n",
    "\n",
    "# Model parameters\n",
    "# Vocab size\n",
    "vocab_size = len(vocab_to_int)\n",
    "# Output size\n",
    "output_size = vocab_size\n",
    "# Embedding Dimension\n",
    "embedding_dim = 400\n",
    "# Hidden Dimension\n",
    "hidden_dim = 300\n",
    "# Number of RNN Layers\n",
    "n_layers = 2\n",
    "\n",
    "# Show stats for every n number of batches\n",
    "show_every_n_batches = 500"
   ]
  },
  {
   "cell_type": "markdown",
   "metadata": {},
   "source": [
    "### Train\n",
    "In the next cell, you'll train the neural network on the pre-processed data.  If you have a hard time getting a good loss, you may consider changing your hyperparameters. In general, you may get better results with larger hidden and n_layer dimensions, but larger models take a longer time to train. \n",
    "> **You should aim for a loss less than 3.5.** \n",
    "\n",
    "You should also experiment with different sequence lengths, which determine the size of the long range dependencies that a model can learn."
   ]
  },
  {
   "cell_type": "code",
   "execution_count": 32,
   "metadata": {},
   "outputs": [],
   "source": [
    "rnn = RNN(vocab_size, output_size, embedding_dim, hidden_dim, n_layers, dropout=0.5)"
   ]
  },
  {
   "cell_type": "code",
   "execution_count": 60,
   "metadata": {},
   "outputs": [],
   "source": [
    "if train_on_gpu:\n",
    "    rnn.cuda()"
   ]
  },
  {
   "cell_type": "code",
   "execution_count": 17,
   "metadata": {
    "collapsed": true
   },
   "outputs": [
    {
     "name": "stdout",
     "output_type": "stream",
     "text": [
      "Training for 15 epoch(s)...\n",
      "Epoch:    1/15    Loss: 5.335907947540283\n",
      "\n",
      "Epoch:    1/15    Loss: 4.693858551979065\n",
      "\n",
      "Epoch:    1/15    Loss: 4.510292363166809\n",
      "\n",
      "Epoch:    1/15    Loss: 4.403401208400727\n",
      "\n",
      "Epoch:    1/15    Loss: 4.341602207660675\n",
      "\n",
      "Epoch:    1/15    Loss: 4.273190779685974\n",
      "\n",
      "Epoch:    2/15    Loss: 4.165981225297992\n",
      "\n",
      "Epoch:    2/15    Loss: 4.112929504394531\n",
      "\n",
      "Epoch:    2/15    Loss: 4.08911287355423\n",
      "\n",
      "Epoch:    2/15    Loss: 4.051119529724121\n",
      "\n",
      "Epoch:    2/15    Loss: 4.051318299293518\n",
      "\n",
      "Epoch:    2/15    Loss: 4.0431929969787594\n",
      "\n",
      "Epoch:    3/15    Loss: 3.9613296347741316\n",
      "\n",
      "Epoch:    3/15    Loss: 3.901884811878204\n",
      "\n",
      "Epoch:    3/15    Loss: 3.89063361120224\n",
      "\n",
      "Epoch:    3/15    Loss: 3.8990138144493103\n",
      "\n",
      "Epoch:    3/15    Loss: 3.9057287077903746\n",
      "\n",
      "Epoch:    3/15    Loss: 3.904463174343109\n",
      "\n",
      "Epoch:    4/15    Loss: 3.823482954126166\n",
      "\n",
      "Epoch:    4/15    Loss: 3.7965113310813905\n",
      "\n",
      "Epoch:    4/15    Loss: 3.785290934562683\n",
      "\n",
      "Epoch:    4/15    Loss: 3.7972755455970764\n",
      "\n",
      "Epoch:    4/15    Loss: 3.783479853630066\n",
      "\n",
      "Epoch:    4/15    Loss: 3.803371000289917\n",
      "\n",
      "Epoch:    5/15    Loss: 3.7331904615536105\n",
      "\n",
      "Epoch:    5/15    Loss: 3.7057107052803038\n",
      "\n",
      "Epoch:    5/15    Loss: 3.707709201812744\n",
      "\n",
      "Epoch:    5/15    Loss: 3.7048056502342224\n",
      "\n",
      "Epoch:    5/15    Loss: 3.726348266124725\n",
      "\n",
      "Epoch:    5/15    Loss: 3.7090337529182436\n",
      "\n",
      "Epoch:    6/15    Loss: 3.67460413333237\n",
      "\n",
      "Epoch:    6/15    Loss: 3.6308929095268248\n",
      "\n",
      "Epoch:    6/15    Loss: 3.6392837314605715\n",
      "\n",
      "Epoch:    6/15    Loss: 3.6453991408348085\n",
      "\n",
      "Epoch:    6/15    Loss: 3.6686855988502503\n",
      "\n",
      "Epoch:    6/15    Loss: 3.6688686819076537\n",
      "\n",
      "Epoch:    7/15    Loss: 3.608839683833467\n",
      "\n",
      "Epoch:    7/15    Loss: 3.5702508964538575\n",
      "\n",
      "Epoch:    7/15    Loss: 3.5955146074295046\n",
      "\n",
      "Epoch:    7/15    Loss: 3.6040802159309386\n",
      "\n",
      "Epoch:    7/15    Loss: 3.620603041648865\n",
      "\n",
      "Epoch:    7/15    Loss: 3.6029867067337036\n",
      "\n",
      "Epoch:    8/15    Loss: 3.5718815680801685\n",
      "\n",
      "Epoch:    8/15    Loss: 3.540409990787506\n",
      "\n",
      "Epoch:    8/15    Loss: 3.542501051902771\n",
      "\n",
      "Epoch:    8/15    Loss: 3.5567372307777405\n",
      "\n",
      "Epoch:    8/15    Loss: 3.5482191557884217\n",
      "\n",
      "Epoch:    8/15    Loss: 3.5748990931510924\n",
      "\n",
      "Epoch:    9/15    Loss: 3.5394123066235657\n",
      "\n",
      "Epoch:    9/15    Loss: 3.4902812843322755\n",
      "\n",
      "Epoch:    9/15    Loss: 3.5219329085350037\n",
      "\n",
      "Epoch:    9/15    Loss: 3.512832416534424\n",
      "\n",
      "Epoch:    9/15    Loss: 3.528026026248932\n",
      "\n",
      "Epoch:    9/15    Loss: 3.5387189245224\n",
      "\n",
      "Epoch:   10/15    Loss: 3.5025540851018677\n",
      "\n",
      "Epoch:   10/15    Loss: 3.45626015663147\n",
      "\n",
      "Epoch:   10/15    Loss: 3.4831368336677553\n",
      "\n",
      "Epoch:   10/15    Loss: 3.493242668628693\n",
      "\n",
      "Epoch:   10/15    Loss: 3.49655446434021\n",
      "\n",
      "Epoch:   10/15    Loss: 3.510984294891357\n",
      "\n",
      "Epoch:   11/15    Loss: 3.464684215469981\n",
      "\n",
      "Epoch:   11/15    Loss: 3.414809654712677\n",
      "\n",
      "Epoch:   11/15    Loss: 3.4553303108215334\n",
      "\n",
      "Epoch:   11/15    Loss: 3.4552799344062803\n",
      "\n",
      "Epoch:   11/15    Loss: 3.4798041424751283\n",
      "\n",
      "Epoch:   11/15    Loss: 3.4783951663970947\n",
      "\n",
      "Epoch:   12/15    Loss: 3.444340590664232\n",
      "\n",
      "Epoch:   12/15    Loss: 3.3993694167137147\n",
      "\n",
      "Epoch:   12/15    Loss: 3.421127934932709\n",
      "\n",
      "Epoch:   12/15    Loss: 3.436045443058014\n",
      "\n",
      "Epoch:   12/15    Loss: 3.4346156539916994\n",
      "\n",
      "Epoch:   12/15    Loss: 3.4557351365089417\n",
      "\n",
      "Epoch:   13/15    Loss: 3.4175535051165373\n",
      "\n",
      "Epoch:   13/15    Loss: 3.393978865623474\n",
      "\n",
      "Epoch:   13/15    Loss: 3.39741869020462\n",
      "\n",
      "Epoch:   13/15    Loss: 3.3954350938796996\n",
      "\n",
      "Epoch:   13/15    Loss: 3.4310860595703123\n",
      "\n",
      "Epoch:   13/15    Loss: 3.439459050655365\n",
      "\n",
      "Epoch:   14/15    Loss: 3.399895207200385\n",
      "\n",
      "Epoch:   14/15    Loss: 3.3579881563186644\n",
      "\n",
      "Epoch:   14/15    Loss: 3.372139130592346\n",
      "\n",
      "Epoch:   14/15    Loss: 3.392001374721527\n",
      "\n",
      "Epoch:   14/15    Loss: 3.4005996584892273\n",
      "\n",
      "Epoch:   14/15    Loss: 3.428661025524139\n",
      "\n",
      "Epoch:   15/15    Loss: 3.3714922752652017\n",
      "\n",
      "Epoch:   15/15    Loss: 3.3408013830184937\n",
      "\n",
      "Epoch:   15/15    Loss: 3.3705615639686584\n",
      "\n",
      "Epoch:   15/15    Loss: 3.3742651586532593\n",
      "\n",
      "Epoch:   15/15    Loss: 3.38324054813385\n",
      "\n",
      "Epoch:   15/15    Loss: 3.3979453673362734\n",
      "\n"
     ]
    },
    {
     "name": "stderr",
     "output_type": "stream",
     "text": [
      "/opt/conda/lib/python3.6/site-packages/torch/serialization.py:193: UserWarning: Couldn't retrieve source code for container of type RNN. It won't be checked for correctness upon loading.\n",
      "  \"type \" + obj.__name__ + \". It won't be checked \"\n"
     ]
    },
    {
     "name": "stdout",
     "output_type": "stream",
     "text": [
      "Model Trained and Saved\n"
     ]
    }
   ],
   "source": [
    "\n",
    "# create model and move to gpu if available\n",
    "rnn = RNN(vocab_size, output_size, embedding_dim, hidden_dim, n_layers, dropout=0.5)\n",
    "if train_on_gpu:\n",
    "    rnn.cuda()\n",
    "\n",
    "# defining loss and optimization functions for training\n",
    "optimizer = torch.optim.Adam(rnn.parameters(), lr=learning_rate)\n",
    "criterion = nn.CrossEntropyLoss()\n",
    "\n",
    "# training the model\n",
    "trained_rnn = train_rnn(rnn, batch_size, optimizer, criterion, num_epochs, show_every_n_batches)\n",
    "\n",
    "# saving the trained model\n",
    "helper.save_model('./save/trained_rnn', trained_rnn)\n",
    "print('Model Trained and Saved')"
   ]
  },
  {
   "cell_type": "markdown",
   "metadata": {},
   "source": [
    "### Question: How did you decide on your model hyperparameters? \n",
    "For example, did you try different sequence_lengths and find that one size made the model converge faster? What about your hidden_dim and n_layers; how did you decide on those?"
   ]
  },
  {
   "cell_type": "markdown",
   "metadata": {},
   "source": [
    "**Answer:** \n",
    "\n",
    "Sequence_lengths:- I tried 10 and 15 and found out, with 15 i was getting better loss and helped my model converge faster\n",
    "\n",
    "Hidden_dim :- I played with different hidden_dim starting from 128, 256 and finally 300 and found 300 was helping my model grasping the complexity of model.\n",
    "\n",
    "n_layers :- Stacking two layers is general norm which i followed for my RNN model\n",
    "\n",
    "Others:- For embedding dimensions i used the 400 which were used in previously two models in our class (word2vec and sentiment analysis). Knowing that high dimension captures more information but there is always a trade-off because smaller dimension will represeent the information which are contained underlying corpus more compactly and make it more comfortable for model to make use of information effectively.\n",
    "\n"
   ]
  },
  {
   "cell_type": "markdown",
   "metadata": {},
   "source": [
    "---\n",
    "# Checkpoint\n",
    "\n",
    "After running the above training cell, your model will be saved by name, `trained_rnn`, and if you save your notebook progress, **you can pause here and come back to this code at another time**. You can resume your progress by running the next cell, which will load in our word:id dictionaries _and_ load in your saved model by name!"
   ]
  },
  {
   "cell_type": "code",
   "execution_count": 11,
   "metadata": {},
   "outputs": [],
   "source": [
    "\n",
    "import torch\n",
    "import helper\n",
    "import problem_unittests as tests\n",
    "\n",
    "_, vocab_to_int, int_to_vocab, token_dict = helper.load_preprocess()\n",
    "trained_rnn = helper.load_model('./save/trained_rnn')"
   ]
  },
  {
   "cell_type": "markdown",
   "metadata": {},
   "source": [
    "## Generate TV Script\n",
    "With the network trained and saved, you'll use it to generate a new, \"fake\" Seinfeld TV script in this section.\n",
    "\n",
    "### Generate Text\n",
    "To generate the text, the network needs to start with a single word and repeat its predictions until it reaches a set length. You'll be using the `generate` function to do this. It takes a word id to start with, `prime_id`, and generates a set length of text, `predict_len`. Also note that it uses topk sampling to introduce some randomness in choosing the most likely next word, given an output set of word scores!"
   ]
  },
  {
   "cell_type": "code",
   "execution_count": 37,
   "metadata": {},
   "outputs": [],
   "source": [
    "\n",
    "import torch.nn.functional as F\n",
    "\n",
    "def generate(rnn, prime_id, int_to_vocab, token_dict, pad_value, predict_len=100):\n",
    "    \"\"\"\n",
    "    Generate text using the neural network\n",
    "    :param decoder: The PyTorch Module that holds the trained neural network\n",
    "    :param prime_id: The word id to start the first prediction\n",
    "    :param int_to_vocab: Dict of word id keys to word values\n",
    "    :param token_dict: Dict of puncuation tokens keys to puncuation values\n",
    "    :param pad_value: The value used to pad a sequence\n",
    "    :param predict_len: The length of text to generate\n",
    "    :return: The generated text\n",
    "    \"\"\"\n",
    "    rnn.eval()\n",
    "    \n",
    "    # create a sequence (batch_size=1) with the prime_id\n",
    "    current_seq = np.full((1, sequence_length), pad_value)\n",
    "    current_seq[-1][-1] = prime_id\n",
    "    predicted = [int_to_vocab[prime_id]]\n",
    "    \n",
    "    for _ in range(predict_len):\n",
    "        if train_on_gpu:\n",
    "            current_seq = torch.LongTensor(current_seq).cuda()\n",
    "        else:\n",
    "            current_seq = torch.LongTensor(current_seq)\n",
    "        \n",
    "        # initialize the hidden state\n",
    "        hidden = rnn.init_hidden(current_seq.size(0))\n",
    "        \n",
    "        # get the output of the rnn\n",
    "        output, _ = rnn(current_seq, hidden)\n",
    "        \n",
    "        # get the next word probabilities\n",
    "        p = F.softmax(output, dim=1).data\n",
    "        if(train_on_gpu):\n",
    "            p = p.cpu() # move to cpu\n",
    "         \n",
    "        # use top_k sampling to get the index of the next word\n",
    "        top_k = 5\n",
    "        p, top_i = p.topk(top_k)\n",
    "        top_i = top_i.numpy().squeeze()\n",
    "        \n",
    "        # select the likely next word index with some element of randomness\n",
    "        p = p.numpy().squeeze()\n",
    "        word_i = np.random.choice(top_i, p=p/p.sum())\n",
    "        \n",
    "        # retrieve that word from the dictionary\n",
    "        word = int_to_vocab[word_i]\n",
    "        predicted.append(word)     \n",
    "        \n",
    "        # the generated word becomes the next \"current sequence\" and the cycle can continue\n",
    "        current_seq = np.roll(current_seq, -1, 1)\n",
    "        current_seq[-1][-1] = word_i\n",
    "    \n",
    "    gen_sentences = ' '.join(predicted)\n",
    "    \n",
    "    # Replace punctuation tokens\n",
    "    for key, token in token_dict.items():\n",
    "        ending = ' ' if key in ['\\n', '(', '\"'] else ''\n",
    "        gen_sentences = gen_sentences.replace(' ' + token.lower(), key)\n",
    "    gen_sentences = gen_sentences.replace('\\n ', '\\n')\n",
    "    gen_sentences = gen_sentences.replace('( ', '(')\n",
    "    \n",
    "    # return all the sentences\n",
    "    return gen_sentences"
   ]
  },
  {
   "cell_type": "code",
   "execution_count": 157,
   "metadata": {},
   "outputs": [],
   "source": [
    "rnn.eval()\n",
    "cc = np.full((1, 15), vocab_to_int[pad_word])\n",
    "cc[-1][-1] = vocab_to_int[prime_word + ':']"
   ]
  },
  {
   "cell_type": "code",
   "execution_count": 158,
   "metadata": {},
   "outputs": [
    {
     "data": {
      "text/plain": [
       "array([[21387, 21387, 21387, 21387, 21387, 21387, 21387, 21387, 21387,\n",
       "        21387, 21387, 21387, 21387, 21387,     7]])"
      ]
     },
     "execution_count": 158,
     "metadata": {},
     "output_type": "execute_result"
    }
   ],
   "source": [
    "cc"
   ]
  },
  {
   "cell_type": "code",
   "execution_count": 159,
   "metadata": {},
   "outputs": [],
   "source": [
    "predic = [int_to_vocab[vocab_to_int[prime_word + ':']]]"
   ]
  },
  {
   "cell_type": "code",
   "execution_count": 160,
   "metadata": {},
   "outputs": [
    {
     "data": {
      "text/plain": [
       "['jerry:']"
      ]
     },
     "execution_count": 160,
     "metadata": {},
     "output_type": "execute_result"
    }
   ],
   "source": [
    "predic"
   ]
  },
  {
   "cell_type": "code",
   "execution_count": 161,
   "metadata": {},
   "outputs": [
    {
     "name": "stderr",
     "output_type": "stream",
     "text": [
      "/opt/conda/lib/python3.6/site-packages/ipykernel_launcher.py:47: UserWarning: RNN module weights are not part of single contiguous chunk of memory. This means they need to be compacted at every call, possibly greatly increasing memory usage. To compact weights again call flatten_parameters().\n"
     ]
    }
   ],
   "source": [
    "for i in range(100):\n",
    "    if train_on_gpu:\n",
    "        cc = torch.LongTensor(cc).cuda()\n",
    "    else:\n",
    "        cc = torch.LongTensor(cc)\n",
    "        \n",
    "    hud = rnn.init_hidden(cc.size(0))\n",
    "    o, _ = trained_rnn(cc, hud)\n",
    "    po = F.softmax(o, dim =1).data\n",
    "    if train_on_gpu:\n",
    "        po = po.cpu()\n",
    "    top_j = 5\n",
    "    po, topko = po.topk(top_j)\n",
    "    topko = topko.numpy().squeeze()\n",
    "    po = po.numpy().squeeze()\n",
    "    wod = np.random.choice(topko, p = po/po.sum())\n",
    "    sen = int_to_vocab[wod]\n",
    "    predic.append(sen)\n",
    "    cc = np.roll(cc, -1, 1)\n",
    "    cc[-1][-1] = wod\n",
    "    \n",
    "gen_sen = ' '.join(predic)"
   ]
  },
  {
   "cell_type": "code",
   "execution_count": 162,
   "metadata": {},
   "outputs": [
    {
     "name": "stdout",
     "output_type": "stream",
     "text": [
      "jerry: stickler stickler stickler bronzo stickler bronzo stickler stickler stickler stickler stickler rita: ||return|| ||return|| kramer: ||left_parentheses|| looking around ||comma|| ||right_parentheses|| yeah ||comma|| well ||comma|| i guess we should get some good ||period|| ||return|| ||return|| elaine: oh ||comma|| i don't know how much you can do this ||period|| ||return|| ||return|| george: well ||comma|| i can't ||period|| ||return|| ||return|| elaine: well ||comma|| it's not that bad thing ||period|| i don't know what i want you to do ||period|| ||return|| ||return|| jerry: you know ||comma|| i can't ||period|| ||return|| ||return|| elaine: well ||comma|| i guess it's a very interesting situation for the other\n"
     ]
    }
   ],
   "source": [
    "print(gen_sen)"
   ]
  },
  {
   "cell_type": "code",
   "execution_count": 170,
   "metadata": {},
   "outputs": [],
   "source": [
    "for key, token in token_dict.items():\n",
    "    ending = ' ' if key in ['\\n', '(', '\"'] else ''\n",
    "    gen_sen = gen_sen.replace(' ' + token.lower(), key)\n",
    "gen_sen = gen_sen.replace('\\n ', '\\n')\n",
    "gen_sen = gen_sen.replace('( ', '(')"
   ]
  },
  {
   "cell_type": "code",
   "execution_count": 173,
   "metadata": {
    "scrolled": true
   },
   "outputs": [
    {
     "data": {
      "text/plain": [
       "\"jerry: stickler stickler stickler bronzo stickler bronzo stickler stickler stickler stickler stickler rita:\\n\\nkramer:(looking around,) yeah, well, i guess we should get some good.\\n\\nelaine: oh, i don't know how much you can do this.\\n\\ngeorge: well, i can't.\\n\\nelaine: well, it's not that bad thing. i don't know what i want you to do.\\n\\njerry: you know, i can't.\\n\\nelaine: well, i guess it's a very interesting situation for the other\""
      ]
     },
     "execution_count": 173,
     "metadata": {},
     "output_type": "execute_result"
    }
   ],
   "source": [
    "gen_sen"
   ]
  },
  {
   "cell_type": "code",
   "execution_count": 166,
   "metadata": {
    "scrolled": true
   },
   "outputs": [
    {
     "data": {
      "text/plain": [
       "\"jerry: stickler stickler stickler bronzo stickler bronzo stickler stickler stickler stickler stickler rita:\\n\\nkramer:( looking around,) yeah, well, i guess we should get some good.\\n\\nelaine: oh, i don't know how much you can do this.\\n\\ngeorge: well, i can't.\\n\\nelaine: well, it's not that bad thing. i don't know what i want you to do.\\n\\njerry: you know, i can't.\\n\\nelaine: well, i guess it's a very interesting situation for the other\""
      ]
     },
     "execution_count": 166,
     "metadata": {},
     "output_type": "execute_result"
    }
   ],
   "source": [
    "gen_sen = gen_sen.replace('\\n ', '\\n')\n",
    "gen_sen"
   ]
  },
  {
   "cell_type": "code",
   "execution_count": 167,
   "metadata": {},
   "outputs": [
    {
     "data": {
      "text/plain": [
       "\"jerry: stickler stickler stickler bronzo stickler bronzo stickler stickler stickler stickler stickler rita:\\n\\nkramer:(looking around,) yeah, well, i guess we should get some good.\\n\\nelaine: oh, i don't know how much you can do this.\\n\\ngeorge: well, i can't.\\n\\nelaine: well, it's not that bad thing. i don't know what i want you to do.\\n\\njerry: you know, i can't.\\n\\nelaine: well, i guess it's a very interesting situation for the other\""
      ]
     },
     "execution_count": 167,
     "metadata": {},
     "output_type": "execute_result"
    }
   ],
   "source": [
    "gen_sen = gen_sen.replace('( ', '(')\n",
    "gen_sen"
   ]
  },
  {
   "cell_type": "code",
   "execution_count": 163,
   "metadata": {},
   "outputs": [
    {
     "data": {
      "text/plain": [
       "{'.': '||Period||',\n",
       " ',': '||Comma||',\n",
       " '\"': '||Quotation_Mark||',\n",
       " ';': '||Semicolon||',\n",
       " '!': '||Exclamation_Mark||',\n",
       " '?': '||Question_Mark||',\n",
       " '(': '||Left_Parentheses||',\n",
       " ')': '||Right_Parentheses||',\n",
       " '-': '||Dash||',\n",
       " '\\n': '||Return||'}"
      ]
     },
     "execution_count": 163,
     "metadata": {},
     "output_type": "execute_result"
    }
   ],
   "source": [
    "token_dict"
   ]
  },
  {
   "cell_type": "markdown",
   "metadata": {},
   "source": [
    "### Generate a New Script\n",
    "It's time to generate the text. Set `gen_length` to the length of TV script you want to generate and set `prime_word` to one of the following to start the prediction:\n",
    "- \"jerry\"\n",
    "- \"elaine\"\n",
    "- \"george\"\n",
    "- \"kramer\"\n",
    "\n",
    "You can set the prime word to _any word_ in our dictionary, but it's best to start with a name for generating a TV script. (You can also start with any other names you find in the original text file!)"
   ]
  },
  {
   "cell_type": "code",
   "execution_count": 131,
   "metadata": {},
   "outputs": [],
   "source": [
    "gen_length = 100 # modify the length to your preference\n",
    "prime_word = 'jerry' # name for starting the script\n",
    "\n",
    "pad_word = helper.SPECIAL_WORDS['PADDING']"
   ]
  },
  {
   "cell_type": "code",
   "execution_count": 39,
   "metadata": {},
   "outputs": [
    {
     "name": "stderr",
     "output_type": "stream",
     "text": [
      "/opt/conda/lib/python3.6/site-packages/ipykernel_launcher.py:47: UserWarning: RNN module weights are not part of single contiguous chunk of memory. This means they need to be compacted at every call, possibly greatly increasing memory usage. To compact weights again call flatten_parameters().\n"
     ]
    },
    {
     "name": "stdout",
     "output_type": "stream",
     "text": [
      "jerry: stickler stickler stickler stickler stickler stickler intention lanette: stickler stickler stickler seinfelds'. you know what i am.\n",
      "\n",
      "kramer: i don't think so.\n",
      "\n",
      "george:(interrupting) yeah.\n",
      "\n",
      "george:(pointing at jerry) i don't know.\n",
      "\n",
      "jerry: what is it?\n",
      "\n",
      "george: you think it's a good time?\n",
      "\n",
      "jerry: yeah. i was wondering...\n",
      "\n",
      "george: i think that's it.\n",
      "\n",
      "kramer: yeah, well i gotta go.\n",
      "\n",
      "newman: you know what the odds is in the world that was gonna get the rest of your life.\n",
      "\n",
      "elaine:(to george) oh, oh my god. i think i'm gonna be here soon.\n",
      "\n",
      "jerry: oh, yeah.\n",
      "\n",
      "george: yeah.\n",
      "\n",
      "george: yeah, that's a nice idea, but i can't believe it!(george shakes his head.) i think it's a good thing, you know, i have to get the whole thing up.\n",
      "\n",
      "kramer: well, i can't believe you had a lot of things.\n",
      "\n",
      "kramer: well, i don't think so.\n",
      "\n",
      "jerry: i know i didn't have it.\n",
      "\n",
      "jerry: what about this?\n",
      "\n",
      "george: well, i just want to be able to get back to you.\n",
      "\n",
      "elaine: oh, yeah, yeah. yeah, yeah.\n",
      "\n",
      "jerry: yeah.\n",
      "\n",
      "jerry: hey, what about you, huh?\n",
      "\n",
      "kramer:(looking in his pocket) i can't believe this, i can't do that. i can't get my money back.\n",
      "\n",
      "elaine:(to george) hey, hey.\n",
      "\n",
      "kramer: hi.\n",
      "\n",
      "newman: you have a good time. i can't do anything.\n",
      "\n",
      "elaine: what do you mean, the last thing i can do?\n",
      "\n",
      "kramer: yeah, you see if i could do this, i don't think so, i don't know what to do.\n",
      "\n",
      "newman:(to kramer) you don't want it.\n",
      "\n",
      "kramer:(pointing to jerry) oh, oh, oh,\n"
     ]
    }
   ],
   "source": [
    "# run the cell multiple times to get different results!\n",
    "gen_length = 400 # modify the length to your preference\n",
    "prime_word = 'jerry' # name for starting the script\n",
    "\n",
    "\"\"\"\n",
    "DON'T MODIFY ANYTHING IN THIS CELL THAT IS BELOW THIS LINE\n",
    "\"\"\"\n",
    "pad_word = helper.SPECIAL_WORDS['PADDING']\n",
    "generated_script = generate(trained_rnn, vocab_to_int[prime_word + ':'], int_to_vocab, token_dict, vocab_to_int[pad_word], gen_length)\n",
    "print(generated_script)"
   ]
  },
  {
   "cell_type": "markdown",
   "metadata": {},
   "source": [
    "#### Save your favorite scripts\n",
    "\n",
    "Once you have a script that you like (or find interesting), save it to a text file!"
   ]
  },
  {
   "cell_type": "code",
   "execution_count": 21,
   "metadata": {},
   "outputs": [],
   "source": [
    "# save script to a text file\n",
    "f =  open(\"generated_script_1.txt\",\"w\")\n",
    "f.write(generated_script)\n",
    "f.close()"
   ]
  },
  {
   "cell_type": "markdown",
   "metadata": {},
   "source": [
    "# The TV Script is Not Perfect\n",
    "It's ok if the TV script doesn't make perfect sense. It should look like alternating lines of dialogue, here is one such example of a few generated lines.\n",
    "\n",
    "### Example generated script\n",
    "\n",
    ">jerry: what about me?\n",
    ">\n",
    ">jerry: i don't have to wait.\n",
    ">\n",
    ">kramer:(to the sales table)\n",
    ">\n",
    ">elaine:(to jerry) hey, look at this, i'm a good doctor.\n",
    ">\n",
    ">newman:(to elaine) you think i have no idea of this...\n",
    ">\n",
    ">elaine: oh, you better take the phone, and he was a little nervous.\n",
    ">\n",
    ">kramer:(to the phone) hey, hey, jerry, i don't want to be a little bit.(to kramer and jerry) you can't.\n",
    ">\n",
    ">jerry: oh, yeah. i don't even know, i know.\n",
    ">\n",
    ">jerry:(to the phone) oh, i know.\n",
    ">\n",
    ">kramer:(laughing) you know...(to jerry) you don't know.\n",
    "\n",
    "You can see that there are multiple characters that say (somewhat) complete sentences, but it doesn't have to be perfect! It takes quite a while to get good results, and often, you'll have to use a smaller vocabulary (and discard uncommon words), or get more data.  The Seinfeld dataset is about 3.4 MB, which is big enough for our purposes; for script generation you'll want more than 1 MB of text, generally. \n"
   ]
  },
  {
   "cell_type": "code",
   "execution_count": null,
   "metadata": {},
   "outputs": [],
   "source": []
  }
 ],
 "metadata": {
  "kernelspec": {
   "display_name": "Python 3 (ipykernel)",
   "language": "python",
   "name": "python3"
  },
  "language_info": {
   "codemirror_mode": {
    "name": "ipython",
    "version": 3
   },
   "file_extension": ".py",
   "mimetype": "text/x-python",
   "name": "python",
   "nbconvert_exporter": "python",
   "pygments_lexer": "ipython3",
   "version": "3.9.7"
  },
  "widgets": {
   "state": {},
   "version": "1.1.2"
  }
 },
 "nbformat": 4,
 "nbformat_minor": 1
}
